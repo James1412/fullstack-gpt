{
 "cells": [
  {
   "cell_type": "code",
   "execution_count": 5,
   "metadata": {},
   "outputs": [],
   "source": [
    "from langchain.chat_models import ChatOpenAI\n",
    "from langchain.prompts import PromptTemplate, ChatPromptTemplate\n",
    "from langchain.callbacks import StreamingStdOutCallbackHandler\n",
    "chat = ChatOpenAI(temperature=0.1, streaming=True, callbacks=[StreamingStdOutCallbackHandler()])\n",
    "\n",
    "chef_prompt = ChatPromptTemplate.from_messages([\n",
    "    ('system', 'you are a world class international chef. you create easy to follow recipies for any type of cuisine with easy to fin dingredients.'),\n",
    "    ('human', 'I want to cook {cuisine} food.'),\n",
    "])\n",
    "\n",
    "chef_chain = chef_prompt | chat"
   ]
  },
  {
   "cell_type": "code",
   "execution_count": 6,
   "metadata": {},
   "outputs": [
    {
     "name": "stdout",
     "output_type": "stream",
     "text": [
      "Great choice! Indian cuisine is known for its rich flavors and aromatic spices. Here's a simple recipe for Chicken Tikka Masala, a popular Indian dish:\n",
      "\n",
      "Ingredients:\n",
      "- 500g boneless chicken, cut into bite-sized pieces\n",
      "- 1 cup plain yogurt\n",
      "- 2 tablespoons lemon juice\n",
      "- 2 tablespoons vegetable oil\n",
      "- 1 large onion, finely chopped\n",
      "- 3 cloves of garlic, minced\n",
      "- 1-inch piece of ginger, grated\n",
      "- 2 teaspoons ground cumin\n",
      "- 2 teaspoons ground coriander\n",
      "- 1 teaspoon turmeric powder\n",
      "- 1 teaspoon paprika\n",
      "- 1 teaspoon garam masala\n",
      "- 1 cup tomato puree\n",
      "- 1 cup heavy cream\n",
      "- Salt, to taste\n",
      "- Fresh cilantro, chopped (for garnish)\n",
      "\n",
      "Instructions:\n",
      "1. In a bowl, combine the yogurt, lemon juice, 1 teaspoon of cumin, 1 teaspoon of coriander, turmeric powder, paprika, and salt. Mix well.\n",
      "2. Add the chicken pieces to the marinade, ensuring they are well coated. Cover and refrigerate for at least 1 hour, or overnight for best results.\n",
      "3. Preheat your oven to 400°F (200°C). Place the marinated chicken on a baking sheet and bake for 15-20 minutes, or until cooked through. Set aside.\n",
      "4. In a large pan, heat the vegetable oil over medium heat. Add the chopped onion and cook until golden brown.\n",
      "5. Add the minced garlic and grated ginger to the pan. Cook for another 2 minutes, stirring continuously.\n",
      "6. Add the remaining cumin, coriander, garam masala, and tomato puree to the pan. Stir well and cook for 5 minutes.\n",
      "7. Reduce the heat to low and add the heavy cream. Stir until well combined.\n",
      "8. Add the cooked chicken pieces to the sauce and simmer for 10 minutes, allowing the flavors to meld together. Adjust the salt if needed.\n",
      "9. Garnish with fresh cilantro and serve hot with steamed rice or naan bread.\n",
      "\n",
      "Enjoy your homemade Chicken Tikka Masala! Feel free to adjust the spice levels according to your preference.Great choice! Chicken Tikka Masala is a delicious dish, and I can help you make a vegetarian version of it. Instead of using chicken, we can substitute it with a plant-based protein like tofu or paneer. Here's how you can modify the recipe:\n",
      "\n",
      "Ingredients:\n",
      "- 500g tofu or paneer, cut into bite-sized pieces\n",
      "- 1 cup plain yogurt (use dairy-free yogurt if vegan)\n",
      "- 2 tablespoons lemon juice\n",
      "- 2 tablespoons vegetable oil\n",
      "- 1 large onion, finely chopped\n",
      "- 3 cloves of garlic, minced\n",
      "- 1-inch piece of ginger, grated\n",
      "- 2 teaspoons ground cumin\n",
      "- 2 teaspoons ground coriander\n",
      "- 1 teaspoon turmeric powder\n",
      "- 1 teaspoon paprika\n",
      "- 1 teaspoon garam masala\n",
      "- 1 cup tomato puree\n",
      "- 1 cup coconut cream (or dairy-free heavy cream if vegan)\n",
      "- Salt, to taste\n",
      "- Fresh cilantro, chopped (for garnish)\n",
      "\n",
      "Instructions:\n",
      "1. In a bowl, combine the yogurt, lemon juice, 1 teaspoon of cumin, 1 teaspoon of coriander, turmeric powder, paprika, and salt. Mix well.\n",
      "2. Add the tofu or paneer pieces to the marinade, ensuring they are well coated. Cover and refrigerate for at least 1 hour, or overnight for best results.\n",
      "3. Preheat your oven to 400°F (200°C). Place the marinated tofu or paneer on a baking sheet and bake for 15-20 minutes, or until lightly browned. Set aside.\n",
      "4. In a large pan, heat the vegetable oil over medium heat. Add the chopped onion and cook until golden brown.\n",
      "5. Add the minced garlic and grated ginger to the pan. Cook for another 2 minutes, stirring continuously.\n",
      "6. Add the remaining cumin, coriander, garam masala, and tomato puree to the pan. Stir well and cook for 5 minutes.\n",
      "7. Reduce the heat to low and add the coconut cream. Stir until well combined.\n",
      "8. Add the baked tofu or paneer pieces to the sauce and simmer for 10 minutes, allowing the flavors to meld together. Adjust the salt if needed.\n",
      "9. Garnish with fresh cilantro and serve hot with steamed rice or naan bread.\n",
      "\n",
      "Enjoy your vegetarian version of Chicken Tikka Masala! The tofu or paneer will absorb the flavors of the marinade and the sauce, making it a delicious and satisfying dish."
     ]
    },
    {
     "data": {
      "text/plain": [
       "AIMessageChunk(content=\"Great choice! Chicken Tikka Masala is a delicious dish, and I can help you make a vegetarian version of it. Instead of using chicken, we can substitute it with a plant-based protein like tofu or paneer. Here's how you can modify the recipe:\\n\\nIngredients:\\n- 500g tofu or paneer, cut into bite-sized pieces\\n- 1 cup plain yogurt (use dairy-free yogurt if vegan)\\n- 2 tablespoons lemon juice\\n- 2 tablespoons vegetable oil\\n- 1 large onion, finely chopped\\n- 3 cloves of garlic, minced\\n- 1-inch piece of ginger, grated\\n- 2 teaspoons ground cumin\\n- 2 teaspoons ground coriander\\n- 1 teaspoon turmeric powder\\n- 1 teaspoon paprika\\n- 1 teaspoon garam masala\\n- 1 cup tomato puree\\n- 1 cup coconut cream (or dairy-free heavy cream if vegan)\\n- Salt, to taste\\n- Fresh cilantro, chopped (for garnish)\\n\\nInstructions:\\n1. In a bowl, combine the yogurt, lemon juice, 1 teaspoon of cumin, 1 teaspoon of coriander, turmeric powder, paprika, and salt. Mix well.\\n2. Add the tofu or paneer pieces to the marinade, ensuring they are well coated. Cover and refrigerate for at least 1 hour, or overnight for best results.\\n3. Preheat your oven to 400°F (200°C). Place the marinated tofu or paneer on a baking sheet and bake for 15-20 minutes, or until lightly browned. Set aside.\\n4. In a large pan, heat the vegetable oil over medium heat. Add the chopped onion and cook until golden brown.\\n5. Add the minced garlic and grated ginger to the pan. Cook for another 2 minutes, stirring continuously.\\n6. Add the remaining cumin, coriander, garam masala, and tomato puree to the pan. Stir well and cook for 5 minutes.\\n7. Reduce the heat to low and add the coconut cream. Stir until well combined.\\n8. Add the baked tofu or paneer pieces to the sauce and simmer for 10 minutes, allowing the flavors to meld together. Adjust the salt if needed.\\n9. Garnish with fresh cilantro and serve hot with steamed rice or naan bread.\\n\\nEnjoy your vegetarian version of Chicken Tikka Masala! The tofu or paneer will absorb the flavors of the marinade and the sauce, making it a delicious and satisfying dish.\")"
      ]
     },
     "execution_count": 6,
     "metadata": {},
     "output_type": "execute_result"
    }
   ],
   "source": [
    "veg_chef_prompt = ChatPromptTemplate.from_messages([\n",
    "('system', 'you are a vegetarian chef specialized on making traditional recipies vegetarian. you find alternative ingredients and explain their preparation. You do not radically modify the recipe. If there is no alternative for a food, just say you do not know how to replace it'),\n",
    "('human', '{recipe}'),\n",
    "])\n",
    "\n",
    "veg_chain = veg_chef_prompt | chat\n",
    "\n",
    "final_chain = {\"recipe\" :chef_chain} | veg_chain\n",
    "\n",
    "final_chain.invoke({\"cuisine\": \"indian\"})"
   ]
  },
  {
   "cell_type": "code",
   "execution_count": null,
   "metadata": {},
   "outputs": [],
   "source": []
  }
 ],
 "metadata": {
  "kernelspec": {
   "display_name": "env",
   "language": "python",
   "name": "python3"
  },
  "language_info": {
   "codemirror_mode": {
    "name": "ipython",
    "version": 3
   },
   "file_extension": ".py",
   "mimetype": "text/x-python",
   "name": "python",
   "nbconvert_exporter": "python",
   "pygments_lexer": "ipython3",
   "version": "3.9.13"
  }
 },
 "nbformat": 4,
 "nbformat_minor": 2
}
