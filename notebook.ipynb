{
 "cells": [
  {
   "cell_type": "code",
   "execution_count": 1,
   "metadata": {},
   "outputs": [
    {
     "data": {
      "text/plain": [
       "\"To make Italian pasta, you will need the following ingredients:\\n\\n- 2 cups of all-purpose flour\\n- 2 large eggs\\n- 1/2 teaspoon of salt\\n- Water (if needed)\\n\\nHere's a step-by-step guide to making Italian pasta:\\n\\n1. On a clean surface or in a large mixing bowl, pour the flour and create a well in the center.\\n2. Crack the eggs into the well and add the salt.\\n3. Using a fork, gradually whisk the eggs while incorporating the flour from the sides of the well. Continue until the mixture becomes too thick to whisk.\\n4. Use your hands to bring the dough together. If the dough is too dry, add a little water, one tablespoon at a time, until it comes together. If it's too sticky, add a little flour.\\n5. Knead the dough for about 5-10 minutes until it becomes smooth and elastic.\\n6. Shape the dough into a ball and cover it with a clean kitchen towel. Let it rest for at least 30 minutes to allow the gluten to relax.\\n7. After resting, divide the dough into smaller portions for easier handling.\\n8. Take one portion and flatten it with your hands or a rolling pin until it becomes thin enough to fit through a pasta machine.\\n9. Set the pasta machine to the widest setting and pass the dough through it. Fold the dough into thirds and pass it through the machine again. Repeat this process a few times until the dough becomes smooth and pliable.\\n10. Gradually decrease the width setting on the pasta machine and pass the dough through each setting once until you reach the desired thickness. For spaghetti or fettuccine, you'll want to stop at the second-to-last setting.\\n11. Once the dough is rolled out, you can either cut it into your desired pasta shape using a knife or use the appropriate attachment on your pasta machine.\\n12. Dust the pasta with flour to prevent sticking and lay it out on a clean surface or hang it on a pasta drying rack until ready to cook.\\n13. To cook the pasta, bring a large pot of salted water to a boil. Add the pasta and cook for about 2-3 minutes or until al dente (firm to the bite).\\n14. Drain the pasta and serve it with your favorite sauce or toppings.\\n\\nEnjoy your homemade Italian pasta!\""
      ]
     },
     "execution_count": 1,
     "metadata": {},
     "output_type": "execute_result"
    }
   ],
   "source": [
    "from langchain.chat_models import ChatOpenAI\n",
    "from langchain.callbacks import StreamingStdOutCallbackHandler\n",
    "from langchain.globals import set_llm_cache, set_debug\n",
    "from langchain.cache import InMemoryCache, SQLiteCache\n",
    "\n",
    "set_llm_cache(SQLiteCache(\"cache.db\"))\n",
    "\n",
    "chat = ChatOpenAI(\n",
    "    temperature=0.1,\n",
    "    # streaming=True,\n",
    "    # callbacks=[\n",
    "    #     StreamingStdOutCallbackHandler(),\n",
    "    # ],\n",
    ")\n",
    "\n",
    "chat.predict(\"How do you make italian pasta\")"
   ]
  },
  {
   "cell_type": "code",
   "execution_count": null,
   "metadata": {},
   "outputs": [],
   "source": [
    "chat.predict(\"How do you make italian pasta\")"
   ]
  }
 ],
 "metadata": {
  "kernelspec": {
   "display_name": "env",
   "language": "python",
   "name": "python3"
  },
  "language_info": {
   "codemirror_mode": {
    "name": "ipython",
    "version": 3
   },
   "file_extension": ".py",
   "mimetype": "text/x-python",
   "name": "python",
   "nbconvert_exporter": "python",
   "pygments_lexer": "ipython3",
   "version": "3.9.13"
  }
 },
 "nbformat": 4,
 "nbformat_minor": 2
}
