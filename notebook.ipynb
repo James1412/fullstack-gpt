{
 "cells": [
  {
   "cell_type": "code",
   "execution_count": 7,
   "metadata": {},
   "outputs": [
    {
     "name": "stdout",
     "output_type": "stream",
     "text": [
      "France is a country located in Western Europe. It is known for its rich history, culture, and contributions to art, literature, and philosophy. Here are some key points about France:\n",
      "\n",
      "1. Capital: The capital city of France is Paris, which is also its largest city. Paris is famous for its iconic landmarks like the Eiffel Tower, Louvre Museum, Notre-Dame Cathedral, and Champs-Élysées.\n",
      "\n",
      "2. Language: The official language of France is French, which is spoken by the majority of the population. French is also one of the most widely spoken languages in the world.\n",
      "\n",
      "3. History: France has a long and influential history. It was home to the Gauls before being conquered by the Romans. It later became a powerful medieval kingdom and played a significant role in the Renaissance, Enlightenment, and French Revolution.\n",
      "\n",
      "4. Culture: France is renowned for its cultural contributions. It is known for its cuisine, fashion, art, literature, and cinema. French cuisine is highly regarded worldwide, and French fashion brands like Chanel and Louis Vuitton are internationally recognized.\n",
      "\n",
      "5. Landmarks: Apart from Paris, France is home to numerous famous landmarks. These include the Palace of Versailles, Mont Saint-Michel, the French Riviera, the D-Day landing beaches of Normandy, and the wine regions of Bordeaux and Burgundy.\n",
      "\n",
      "6. Tourism: France is one of the most visited countries in the world, attracting millions of tourists each year. Visitors come to explore its historical sites, enjoy its diverse landscapes, experience its vibrant cities, and indulge in its culinary delights.\n",
      "\n",
      "7. Sports: France has a strong sporting culture. Football (soccer) is the most popular sport, and the French national team has won the FIFA World Cup twice. Other popular sports include rugby, cycling, tennis, and skiing.\n",
      "\n",
      "8. Government: France is a unitary semi-presidential republic. It has a president as the head of state and a prime minister as the head of government. The country is also a member of the European Union.\n",
      "\n",
      "These are just a few highlights about France, and there is much more to discover about its history, culture, and people.AI: \n",
      "I know this about Germany:\n",
      "Capital: Berlin\n",
      "Language: German\n",
      "Food: Bratwurst and Sauerkraut\n",
      "Currency: Euro"
     ]
    },
    {
     "data": {
      "text/plain": [
       "AIMessageChunk(content='AI: \\nI know this about Germany:\\nCapital: Berlin\\nLanguage: German\\nFood: Bratwurst and Sauerkraut\\nCurrency: Euro')"
      ]
     },
     "execution_count": 7,
     "metadata": {},
     "output_type": "execute_result"
    }
   ],
   "source": [
    "from langchain.chat_models import ChatOpenAI\n",
    "from langchain.prompts import PromptTemplate, ChatPromptTemplate\n",
    "from langchain.callbacks import StreamingStdOutCallbackHandler\n",
    "from langchain.prompts.few_shot import FewShotPromptTemplate\n",
    "chat = ChatOpenAI(temperature=0.1, streaming=True, callbacks=[StreamingStdOutCallbackHandler()])\n",
    "\n",
    "examples = [\n",
    "    {\n",
    "    \"question\": \"What do you know about France?\",\n",
    "    \"answer\": \"\"\"\n",
    "    Here is what I know:\n",
    "    Capital: Paris\n",
    "    Language: French\n",
    "    Food: Wine and Cheese\n",
    "    Currency: Euro\n",
    "    \"\"\",\n",
    "    },\n",
    "    {\n",
    "    \"question\": \"What do you know about Italy?\",\n",
    "    \"answer\": \"\"\"\n",
    "    I know this:\n",
    "    Capital: Rome\n",
    "    Language: Italian\n",
    "    Food: Pizza and Pasta\n",
    "    Currency: Euro\n",
    "    \"\"\",\n",
    "    },\n",
    "    {\n",
    "    \"question\": \"What do you know about Greece?\",\n",
    "    \"answer\": \"\"\"\n",
    "    I know Greece:\n",
    "    Capital: Athens\n",
    "    Language: Greek\n",
    "    Food: Souvlaki and Feta Cheese\n",
    "    Currency: Euro\n",
    "    \"\"\",\n",
    "    },\n",
    "]\n",
    "\n",
    "chat.predict(\"What do you know about France?\")\n",
    "\n",
    "example_template = \"\"\"\n",
    "    Human: {question}\n",
    "    AI: {answer}\n",
    "\"\"\"\n",
    "\n",
    "\n",
    "example_prompt = PromptTemplate.from_template(example_template)\n",
    "\n",
    "prompt = FewShotPromptTemplate(\n",
    "    example_prompt=example_prompt,\n",
    "    examples=examples,\n",
    "    suffix=\"Human: What do you know about {country}?\",\n",
    "    input_variables=['country'],\n",
    ")\n",
    "\n",
    "chain = prompt | chat\n",
    "\n",
    "chain.invoke(input={\"country\": \"Germany\"})\n"
   ]
  },
  {
   "cell_type": "code",
   "execution_count": null,
   "metadata": {},
   "outputs": [],
   "source": []
  }
 ],
 "metadata": {
  "kernelspec": {
   "display_name": "env",
   "language": "python",
   "name": "python3"
  },
  "language_info": {
   "codemirror_mode": {
    "name": "ipython",
    "version": 3
   },
   "file_extension": ".py",
   "mimetype": "text/x-python",
   "name": "python",
   "nbconvert_exporter": "python",
   "pygments_lexer": "ipython3",
   "version": "3.9.13"
  }
 },
 "nbformat": 4,
 "nbformat_minor": 2
}
